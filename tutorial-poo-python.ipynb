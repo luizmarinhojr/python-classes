{
 "cells": [
  {
   "cell_type": "markdown",
   "metadata": {},
   "source": [
    "# Orientação a Objetos em Python"
   ]
  },
  {
   "cell_type": "code",
   "execution_count": 1,
   "metadata": {},
   "outputs": [
    {
     "name": "stdout",
     "output_type": "stream",
     "text": [
      "Nome: João, Endereço: Rua A\n",
      "Nome: Maria, Endereço: Rua B\n"
     ]
    }
   ],
   "source": [
    "class Pessoa:\n",
    "    def __init__(self, nome, ender):\n",
    "        self.set_nome(nome)\n",
    "        self.set_ender(ender)\n",
    "\n",
    "    def set_nome(self, nome):\n",
    "        self.nome=nome\n",
    "\n",
    "    def set_ender(self, ender):\n",
    "        self.ender=ender\n",
    "\n",
    "    def get_nome(self):\n",
    "        return self.nome\n",
    "    \n",
    "    def get_ender(self):\n",
    "        return self.ender\n",
    "    \n",
    "    \n",
    "pessoa1 = Pessoa(\"João\", \"Rua A\")\n",
    "pessoa2 = Pessoa(\"Maria\", \"Rua B\")\n",
    "\n",
    "print(f'Nome: {pessoa1.get_nome()}, Endereço: {pessoa1.get_ender()}')\n",
    "print(f'Nome: {pessoa2.get_nome()}, Endereço: {pessoa2.get_ender()}')\n"
   ]
  },
  {
   "cell_type": "markdown",
   "metadata": {},
   "source": [
    "<br>\n",
    "\n",
    "### Agregação de Classes\n",
    "Faz-se a agregação de um classe com outra classe através da chamada da classe, onde se passa como atributo da chamada de uma classe, uma variável que está relacionada com outra classe."
   ]
  },
  {
   "cell_type": "code",
   "execution_count": 2,
   "metadata": {},
   "outputs": [
    {
     "name": "stdout",
     "output_type": "stream",
     "text": [
      "Musachi\n",
      "46\n",
      "120700\n"
     ]
    }
   ],
   "source": [
    "# Agregação de Classes\n",
    "\n",
    "class Salario:\n",
    "    def __init__(self, base, bonus):\n",
    "        self.base = base\n",
    "        self.bonus = bonus\n",
    "\n",
    "    def salarioAnual(self):\n",
    "        return (self.base*12) + self.bonus\n",
    "\n",
    "\n",
    "class Empregado:\n",
    "    def __init__(self, nome, idade, salario):\n",
    "        self.nome = nome\n",
    "        self.idade = idade\n",
    "        self.salarioAgregado = salario\n",
    "\n",
    "    def salarioTotal(self):\n",
    "        return self.salarioAgregado.salarioAnual()\n",
    "    \n",
    "\n",
    "class Empresa:\n",
    "    pass\n",
    "\n",
    "\n",
    "salario = Salario(10000, 700)\n",
    "empregado = Empregado('Musachi', 46, salario) \n",
    "\n",
    "print(empregado.nome) # Output: Musachi\n",
    "print(empregado.idade) # Output: 46\n",
    "print(empregado.salarioTotal()) # Output: 120700"
   ]
  },
  {
   "cell_type": "markdown",
   "metadata": {},
   "source": [
    "<br>\n",
    "\n",
    "### Método de classe (@classmethod)\n",
    "O método de classe @classmethod é utilizado para criar uma classe na própria função a partir da própria classe. Com isso, pode-se passar os atributos da respectiva função com o @classmethod diretamente, sem necessidade de passar os atributos da função __init__. Em outras palavras é como se fosse uma classe dentro de outra classe.\n",
    "\n",
    "### Método de classe Estático (@staticmethod)\n",
    "O método de classe @staticmethod é utilizado para utilizar o método independente da classe, ou seja, não há a dependências da função declarada com @staticmethod com as características da classe. Não há a necessidade de passar os atributos da classe, pode-se chamar a função diretamente. Em termos mais simples, é como se fosse uma função normal que não está dentro de uma classe."
   ]
  },
  {
   "cell_type": "code",
   "execution_count": 3,
   "metadata": {},
   "outputs": [
    {
     "name": "stdout",
     "output_type": "stream",
     "text": [
      "26\n",
      "18\n",
      "False\n"
     ]
    }
   ],
   "source": [
    "# Método de classe X Método Estático\n",
    "\n",
    "from datetime import date\n",
    "\n",
    "class Pessoa:\n",
    "    def __init__(self, nome, idade):\n",
    "        self.nome = nome\n",
    "        self.idade = idade\n",
    "\n",
    "    # Método de Classe -> Retorna a idade a partir do ano de nascimento\n",
    "    # Ano atual - Ano Nascimento = idade\n",
    "    @classmethod\n",
    "    def apartirAnoNascimento(cls, nome, ano):\n",
    "        return cls(nome, date.today().year - ano)\n",
    "    \n",
    "    # Método Estático -> Verifica se é maior de idade\n",
    "    @staticmethod\n",
    "    def ehMaiorIdade(idade):\n",
    "        return idade >= 18\n",
    "    \n",
    "\n",
    "pessoa1 = Pessoa('Maria', 26)\n",
    "pessoa2 = Pessoa.apartirAnoNascimento('Ana', 2006)\n",
    "\n",
    "# Imprimir o resultado\n",
    "print(pessoa1.idade) # Output: 26\n",
    "print(pessoa2.idade) # Output: 18\n",
    "print(Pessoa.ehMaiorIdade(17))  # Output: False"
   ]
  },
  {
   "cell_type": "markdown",
   "metadata": {},
   "source": [
    "<br>\n",
    "\n",
    "### Classe sem atributos ou métodos\n",
    "As classes não precisam ter obrigatóriamente atríbutos ou métodos, como o exemplo abaixo.\n",
    "\n",
    "<br>\n",
    "\n",
    "### Função __main__ e variável __name__\n",
    "Por padrão, o Python inicia-se a variável __name__ com o valor __main__. Logo, a estrutura abaixo:\n",
    "~~~python\n",
    "    if __name__ == \"__main__\":\n",
    "        main()\n",
    "~~~\n",
    "executa a função main() automaticamente, sempre que o script é iniciado."
   ]
  },
  {
   "cell_type": "code",
   "execution_count": 4,
   "metadata": {},
   "outputs": [
    {
     "name": "stdout",
     "output_type": "stream",
     "text": [
      "foo\n"
     ]
    }
   ],
   "source": [
    "class A():\n",
    "    def f(self):\n",
    "        print(\"foo\")\n",
    "\n",
    "\n",
    "def main():\n",
    "    obj_A = A() # Objeto sendo instanciado\n",
    "    obj_A.f()\n",
    "\n",
    "if __name__ == \"__main__\": \n",
    "    main()"
   ]
  },
  {
   "cell_type": "markdown",
   "metadata": {},
   "source": [
    "<br>\n",
    "\n",
    "### Chamada de Classe dentro de uma função\n",
    "Podemos chamar uma classe dentro de uma função, o que pode trazer diversas funcionalidades extras a nossa aplicação"
   ]
  },
  {
   "cell_type": "code",
   "execution_count": 5,
   "metadata": {},
   "outputs": [
    {
     "name": "stdout",
     "output_type": "stream",
     "text": [
      "Nome do titular da conta: Joao\n",
      "Número da conta: 1\n",
      "CPF do titular da conta: 1\n",
      "Saldo da conta: 1000\n"
     ]
    }
   ],
   "source": [
    "class Conta:\n",
    "    def __init__(self, numero, cpf, nomeTitular, saldo):\n",
    "        self.numero = numero\n",
    "        self.cpf = cpf\n",
    "        self.nomeTitular = nomeTitular\n",
    "        self.saldo = saldo\n",
    "\n",
    "def main():\n",
    "    c1 = Conta(1,1,\"Joao\",1000) # Objeto sendo instanciado\n",
    "    print (f\"Nome do titular da conta: {c1.nomeTitular}\")\n",
    "    print (f\"Número da conta: {c1.numero}\")\n",
    "    print (f\"CPF do titular da conta: {c1.cpf}\")\n",
    "    print (f\"Saldo da conta: {c1.saldo}\")\n",
    "    \n",
    "\n",
    "# Quando um script python é executado, a variável reservada\n",
    "# NAME referente a ele tem valor igual a \"__main__\".\n",
    "# Nesse caso, a condição do IF a seguir será TRUE.\n",
    "# Então o que está no corpo do IF será executado. No caso,\n",
    "# é um chamado ao método main do script\n",
    "\n",
    "if __name__ == \"__main__\": \n",
    "    main()"
   ]
  },
  {
   "cell_type": "markdown",
   "metadata": {},
   "source": [
    "<br>\n",
    "\n",
    "### Os incríveis métodos de uma Classe\n",
    "É bem impressionante a funcionalidade que os métodos de uma classe proporcionam, veja abaixo um exemplo com uma classe que representa uma conta bancária e as funcionalidade que pode ser atribuídas a essa classe através dos seus métodos, confira abaixo:"
   ]
  },
  {
   "cell_type": "code",
   "execution_count": 3,
   "metadata": {},
   "outputs": [
    {
     "name": "stdout",
     "output_type": "stream",
     "text": [
      "numero: 1\n",
      "cpf: 1\n",
      "saldo: 200\n"
     ]
    }
   ],
   "source": [
    "class Conta:\n",
    "    def __init__(self, numero, cpf, nomeTitular, saldo):\n",
    "        self.numero = numero\n",
    "        self.cpf = cpf\n",
    "        self.nomeTitular = nomeTitular\n",
    "        self.saldo = saldo\n",
    "        \n",
    "    def depositar(self, valor):\n",
    "        self.saldo += valor\n",
    "        \n",
    "    def sacar(self, valor):\n",
    "        self.saldo -= valor\n",
    "        \n",
    "    def gerar_extrato(self):\n",
    "        print(f\"numero: {self.numero}\\ncpf: {self.cpf}\\nsaldo: {self.saldo}\")     \n",
    "\n",
    "def main():\n",
    "    c1 = Conta(1,1,\"Joao\",0)\n",
    "    c1.depositar(300)\n",
    "    c1.sacar(100)\n",
    "    c1.gerar_extrato()\n",
    "\n",
    "if __name__ == \"__main__\": \n",
    "    main()"
   ]
  },
  {
   "cell_type": "markdown",
   "metadata": {},
   "source": [
    "<br>\n",
    "\n",
    "### Mais um pouquinho dos incríveis métodos\n",
    "Verificando uma condição para saque de uma conta bancária"
   ]
  },
  {
   "cell_type": "code",
   "execution_count": 5,
   "metadata": {},
   "outputs": [
    {
     "name": "stdout",
     "output_type": "stream",
     "text": [
      "numero: 1\n",
      "cpf: 1\n",
      "saldo: 300\n",
      "O saque foi realizado? False\n"
     ]
    }
   ],
   "source": [
    "class Conta():\n",
    "    def __init__(self, numero, cpf, nomeTitular, saldo):\n",
    "        self.numero = numero\n",
    "        self.cpf = cpf\n",
    "        self.nomeTitular = nomeTitular\n",
    "        self.saldo = saldo\n",
    "        \n",
    "    def depositar(self, valor):\n",
    "        self.saldo += valor\n",
    "        \n",
    "    def sacar(self,valor):\n",
    "        if self.saldo < valor:\n",
    "            return False\n",
    "        else:\n",
    "            self.saldo -= valor\n",
    "            return True\n",
    "            \n",
    "    def gerar_extrato(self):\n",
    "        print(f\"numero: {self.numero}\\ncpf: {self.cpf}\\nsaldo: {self.saldo}\")     \n",
    "        \n",
    "def main():\n",
    "    c1 = Conta(1,1,\"Joao\",0)\n",
    "    c1.depositar(300)\n",
    "    saque = c1.sacar(400)\n",
    "    c1.gerar_extrato()\n",
    "    print(f\"O saque foi realizado? {saque}\")\n",
    "    \n",
    "\n",
    "if __name__ == \"__main__\": \n",
    "    main()"
   ]
  },
  {
   "cell_type": "markdown",
   "metadata": {},
   "source": [
    "<br>\n",
    "\n",
    "### Representação da memória em um paradigma orientado a objetos\n",
    "<img alt=\"Representação da imagem\" src=\"./assets/representacao-da-memoria-de-uma-classe.jpg\">\n",
    "\n",
    "<br>\n",
    "\n",
    "### Transferência de valores de atributos entre uma classe\n",
    "Segue abaixo um exemplo auto explicativo, de uma transferência bancária entre contas."
   ]
  },
  {
   "cell_type": "code",
   "execution_count": 6,
   "metadata": {},
   "outputs": [
    {
     "name": "stdout",
     "output_type": "stream",
     "text": [
      "500\n",
      "500\n"
     ]
    }
   ],
   "source": [
    "class Conta:\n",
    "    def __init__(self, numero, cpf, nomeTitular, saldo):\n",
    "        self.numero = numero\n",
    "        self.cpf = cpf\n",
    "        self.nomeTitular = nomeTitular\n",
    "        self.saldo = saldo\n",
    "\n",
    "    def depositar(self, valor):\n",
    "        self.saldo += valor\n",
    "    \n",
    "    def sacar(self,valor):\n",
    "        if self.saldo < valor:\n",
    "            return False\n",
    "        else:\n",
    "            self.saldo -= valor\n",
    "            return True\n",
    "    \n",
    "    def gerarextrato(self):\n",
    "        print(f\"numero:{self.numero}\\ncpf:{self.cpf}\\nsaldo:{self.saldo}\")\n",
    "\n",
    "    def transfereValor(self,contaDestino,valor):\n",
    "        if self.saldo < valor:\n",
    "            return (\"Não existe saldo suficiente\")\n",
    "        else:\n",
    "            contaDestino.depositar(valor)\n",
    "            self.saldo -= valor\n",
    "            return(\"Transferencia Realizada\")\n",
    "        \n",
    "\n",
    "conta1 = Conta(1, 123,'Joao',0)\n",
    "conta2 = Conta(3, 456,'Maria',0)\n",
    "conta1.depositar(1000)\n",
    "conta1.transfereValor(conta2,500)\n",
    "print(conta1.saldo)\n",
    "print(conta2.saldo)"
   ]
  },
  {
   "cell_type": "markdown",
   "metadata": {},
   "source": [
    "<br>\n",
    "\n",
    "### Agora vamos evoluir um pouquinho mais em AGREGAÇÕES\n",
    "Vamos começar a agregar clientes a nossa conta bancária.\n",
    "\n",
    "#### Para isso, vamos adicionar uma classe chamada Clientes"
   ]
  },
  {
   "cell_type": "code",
   "execution_count": 24,
   "metadata": {},
   "outputs": [
    {
     "name": "stdout",
     "output_type": "stream",
     "text": [
      "numero:1  |  saldo: 0\n",
      "numero:1  |  saldo: 1000\n",
      "numero:2  |  saldo: 5000\n",
      "Rua 4\n"
     ]
    }
   ],
   "source": [
    "class Cliente:\n",
    "    def __init__(self,cpf,nome,endereco):\n",
    "        self.cpf = cpf\n",
    "        self.nome = nome\n",
    "        self.endereco = endereco\n",
    "\n",
    "\n",
    "class Conta:\n",
    "    def __init__(self, clientes, numero, saldo):\n",
    "        self.clientes = clientes\n",
    "        self.numero = numero\n",
    "        self.saldo = saldo\n",
    "    def depositar(self, valor):\n",
    "        self.saldo += valor\n",
    "    def sacar(self,valor):\n",
    "        if self.saldo < valor:\n",
    "            return False\n",
    "        else:\n",
    "            self.saldo -= valor\n",
    "            return True\n",
    "    def transfereValor(self,contaDestino,valor):\n",
    "        if self.saldo < valor:\n",
    "            return (\"Não existe saldo suficiente\")\n",
    "        else:\n",
    "            contaDestino.depositar(valor)\n",
    "            self.saldo -= valor\n",
    "            return(\"Transferencia Realizada\")\n",
    "    def gerarsaldo(self):\n",
    "        print(f\"numero:{self.numero}  |  saldo: {self.saldo}\")\n",
    "    \n",
    "\n",
    "cliente1 = Cliente(123, \"João\", \"Rua 1\")\n",
    "cliente2 = Cliente(345, \"Maria\",\"Rua 2\")\n",
    "cliente3 = Cliente(980, \"Felipe\", \"Rua 3\")\n",
    "cliente4 = Cliente(999, \"Fernando\", \"Rua 4\")\n",
    "conta1 = Conta([cliente1,cliente2], 1,0) # Conta conjunta, tanto o cliente1, quanto o cliente2, possuem a mesma conta.\n",
    "conta2 = Conta([cliente3,cliente4], 2, 5000)\n",
    "conta1.gerarsaldo()\n",
    "conta1.depositar(1500)\n",
    "conta1.sacar(500)\n",
    "conta1.gerarsaldo()\n",
    "conta2.gerarsaldo()\n",
    "print(conta2.clientes[1].endereco) # Precisou-se específicar qual cliente será impresso o endereço"
   ]
  },
  {
   "cell_type": "markdown",
   "metadata": {},
   "source": [
    "<br>\n",
    "\n",
    "### Composição\n",
    "Vamos avançar mais ainda, agora com um extrato incluído em nossa aplicação. Analise o código com atenção!"
   ]
  },
  {
   "cell_type": "code",
   "execution_count": 31,
   "metadata": {},
   "outputs": [
    {
     "name": "stdout",
     "output_type": "stream",
     "text": [
      "Extrato: 1 \n",
      "\n",
      "DEPOSITO           1000.00 Data       06/Feb/24\n",
      "SAQUE              1500.00 Data       06/Feb/24\n",
      "DEPOSITO           2000.00 Data       06/Feb/24\n",
      "-------------------------------------------------\n",
      "Extrato: 2 \n",
      "\n",
      "TRANSFERENCIA      2000.00 Data       06/Feb/24\n",
      "\n",
      "Saldo Conta1 = 3500\n",
      "\n",
      "Saldo Conta2 = 3000\n"
     ]
    }
   ],
   "source": [
    "import datetime\n",
    "\n",
    "\n",
    "class Cliente:\n",
    "    def __init__(self,cpf,nome,endereco):\n",
    "        self.cpf = cpf\n",
    "        self.nome = nome\n",
    "        self.endereco = endereco\n",
    "\n",
    "\n",
    "class Extrato:\n",
    "    def __init__(self):\n",
    "        self.transacoes = []\n",
    "\n",
    "    def extrato(self, numeroconta):\n",
    "        print(f\"Extrato: {numeroconta} \\n\")\n",
    "        for p in self.transacoes:\n",
    "            print(f\"{p[0]:15s} {p[1]:10.2f} {p[2]:10s} {p[3].strftime(\"%d/%b/%y\")}\")\n",
    "\n",
    "\n",
    "class Conta:\n",
    "    def __init__(self,clientes,numero,saldo):\n",
    "        self.clientes = clientes\n",
    "        self.numero = numero\n",
    "        self.saldo = saldo\n",
    "        self.data_abertura = datetime.datetime.today()\n",
    "        self.extrato = Extrato()\n",
    "\n",
    "    def depositar(self, valor):\n",
    "        self.saldo += valor\n",
    "        self.extrato.transacoes.append([\"DEPOSITO\", valor, \"Data\",datetime.datetime.today()])\n",
    "\n",
    "    def sacar(self, valor):\n",
    "        if self.saldo < valor:\n",
    "            return False\n",
    "        else:\n",
    "            self.saldo -= valor\n",
    "            self.extrato.transacoes.append([\"SAQUE\", valor, \"Data\", datetime.datetime.today()]) \n",
    "            return True\n",
    "\n",
    "    def transfereValor(self, contadestino, valor):\n",
    "        if self.saldo < valor:\n",
    "            return \"Não existe saldo suficiente\"\n",
    "        else:\n",
    "            contadestino.depositar(valor)\n",
    "            self.saldo -= valor\n",
    "            self.extrato.transacoes.append([\"TRANSFERENCIA\", valor, \"Data\", datetime.datetime.today()]) \n",
    "            return \"Transferencia Realizada\"\n",
    "\n",
    "    def gerarsaldo(self):\n",
    "        print(f\"numero: {self.numero}\\n saldo:{self.saldo}\")\n",
    "\n",
    "\n",
    "cliente1 = Cliente(\"123\",\"Joao\",\"Rua X\")\n",
    "cliente2 = Cliente(\"456\",\"Maria\",\"Rua W\")\n",
    "cliente3 = Cliente(\"592\",\"José\",\"Rua F\")\n",
    "conta1 = Conta([cliente1,cliente2],1,2000)\n",
    "conta2 = Conta(cliente3,2,5000)\n",
    "conta1.depositar(1000)\n",
    "conta1.sacar(1500)\n",
    "conta2.transfereValor(conta1, 2000)\n",
    "conta1.extrato.extrato(conta1.numero)\n",
    "print('-------------------------------------------------')\n",
    "conta2.extrato.extrato(conta2.numero)\n",
    "print(f'\\nSaldo Conta1 = {conta1.saldo}')\n",
    "print(f'\\nSaldo Conta2 = {conta2.saldo}')"
   ]
  }
 ],
 "metadata": {
  "kernelspec": {
   "display_name": "Python 3",
   "language": "python",
   "name": "python3"
  },
  "language_info": {
   "codemirror_mode": {
    "name": "ipython",
    "version": 3
   },
   "file_extension": ".py",
   "mimetype": "text/x-python",
   "name": "python",
   "nbconvert_exporter": "python",
   "pygments_lexer": "ipython3",
   "version": "3.12.1"
  }
 },
 "nbformat": 4,
 "nbformat_minor": 2
}
